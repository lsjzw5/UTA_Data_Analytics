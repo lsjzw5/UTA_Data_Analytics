{
 "cells": [
  {
   "cell_type": "markdown",
   "metadata": {},
   "source": [
    "## C S 329E HW 5\n",
    "\n",
    "# Crossvalidation and hyperparameter selection\n",
    "\n",
    "## Louie Wang (zw5565)\n",
    "\n",
    "For this week's homework we are going to explore the cross validation testing methodology and applying that to get error estimates on the two algorithms we've used so far:\n",
    "  - Linear Regression\n",
    "  - Decision Tree classification\n",
    "  "
   ]
  },
  {
   "cell_type": "code",
   "execution_count": 1,
   "metadata": {},
   "outputs": [],
   "source": [
    "# import the libraries! If you want to add things here for visualization, please do, \n",
    "# but only use sklearn when prompted\n",
    "import pandas as pd\n",
    "import numpy as np\n",
    "from sklearn import tree \n",
    "from sklearn.datasets import load_iris\n",
    "from sklearn.datasets import load_diabetes"
   ]
  },
  {
   "cell_type": "markdown",
   "metadata": {},
   "source": [
    "# Part 1 - Calculate Generalized Error on Linear Regression with k-fold Cross Validation"
   ]
  },
  {
   "cell_type": "markdown",
   "metadata": {},
   "source": [
    "## Q1.1 Load in the diabetes data set as a pandas dataframe and series.  \n",
    "Documentation is [here](https://scikit-learn.org/stable/modules/generated/sklearn.datasets.load_diabetes.html).  Name your features dataframe (the independent variables) `df_X` and your target (the dependent variable) series `s_y`"
   ]
  },
  {
   "cell_type": "code",
   "execution_count": 2,
   "metadata": {},
   "outputs": [],
   "source": [
    "(df_X, s_y) = load_diabetes(return_X_y = True, as_frame = True)"
   ]
  },
  {
   "cell_type": "code",
   "execution_count": null,
   "metadata": {},
   "outputs": [],
   "source": [
    "df_X.shape()"
   ]
  },
  {
   "cell_type": "markdown",
   "metadata": {},
   "source": [
    "## Q1.2 Define a function that creates a linear least squares regression model \n",
    "This function should take in two parameters, `df_X`, and `s_y` and return the least squares regression model, $\\hat{\\beta}$ (using the notation from the ESLII book chapter 3 and HW2).  You can not use any libraries outside of pandas and numpy. "
   ]
  },
  {
   "cell_type": "code",
   "execution_count": 3,
   "metadata": {},
   "outputs": [
    {
     "data": {
      "text/plain": [
       "array([ 152.13348416,  -10.01219782, -239.81908937,  519.83978679,\n",
       "        324.39042769, -792.18416163,  476.74583782,  101.04457032,\n",
       "        177.06417623,  751.27932109,   67.62538639])"
      ]
     },
     "execution_count": 3,
     "metadata": {},
     "output_type": "execute_result"
    }
   ],
   "source": [
    "def get_linear_regression_model( df_X, s_y ):\n",
    "    df_X = np.insert(df_X.to_numpy(),0,1, axis=1)\n",
    "    (beta_hat,residuals,rank,s) = np.linalg.lstsq(df_X,s_y,rcond=-1)\n",
    "    return beta_hat\n",
    "get_linear_regression_model(df_X,s_y)"
   ]
  },
  {
   "cell_type": "markdown",
   "metadata": {},
   "source": [
    "## Q1.3 Define a function that partitions the dataframe and series data into dictionaries\n",
    "This function should take in three parameters, `df_X`, `s_y`, and `k`, and returns a tuple of two dictionaries.\n",
    "In both dictionaries the key is the `k` value (an integer from one to `k` inclusive).\n",
    "The first dictionary will have the dataframe of the training data that contains approximately $\\frac{1}{k}$ of the data (variation due to randomness is acceptable).\n",
    "The second dictionary will have the series of the target data that contains approximately $\\frac{1}{k}$ of the data (variation due to randomness is acceptable). Please note the targets _must match_ the same rows as the dataframe at this index, e.g, the length of the kth partition is the same for the dataframe and series.\n",
    "\n",
    "Call that function with $k=5$ and create the dictionaries `dict_k_df_X` and `dict_k_s_y`. Print out the number of rows in each fold.  Check that the number of data points in each partition totals the number of data points in the entire dataset. "
   ]
  },
  {
   "cell_type": "code",
   "execution_count": 4,
   "metadata": {},
   "outputs": [],
   "source": [
    "def partition_data( df_X, s_y, k ):\n",
    "    train = {}\n",
    "    test = {}\n",
    "    df = pd.concat([df_X, s_y.to_frame()], axis = 1)\n",
    "    df['partition num'] = np.random.randint(low = 1, high = k+1, size = len(df))\n",
    "    for i in range(1, k+1):\n",
    "        train[i] = df_X[df['partition num'] == i]\n",
    "        test[i] = s_y[df['partition num'] == i]\n",
    "    return (train, test)\n"
   ]
  },
  {
   "cell_type": "code",
   "execution_count": 5,
   "metadata": {},
   "outputs": [
    {
     "name": "stdout",
     "output_type": "stream",
     "text": [
      "1th fold: 100 rows\n",
      "2th fold: 77 rows\n",
      "3th fold: 84 rows\n",
      "4th fold: 94 rows\n",
      "5th fold: 87 rows\n",
      "Total rows: 442\n"
     ]
    }
   ],
   "source": [
    "(dict_k_df_X, dict_k_s_y) = partition_data( df_X, s_y, 5 )\n",
    "total = 0\n",
    "for i in range(1, 6):\n",
    "    total += len(dict_k_s_y[i])\n",
    "    print('{}th fold: {} rows'.format(i, len(dict_k_df_X[i])))\n",
    "print('Total rows: ' + str(total))"
   ]
  },
  {
   "cell_type": "code",
   "execution_count": null,
   "metadata": {},
   "outputs": [],
   "source": [
    "'''\n",
    "def partition_data( df_X, s_y, k ):\n",
    "    rand_indx = np.random(low = 1, high = k+1, size = len(df_X))\n",
    "    dict_k_df_X = {}\n",
    "    dict_k_s_y = {}\n",
    "    \n",
    "    for k in np.unique(rand_indx):\n",
    "        dict_k_df_X[k] = df_X[rand_indx == k]\n",
    "        dict_k_s_y[k] = s_y[rand_indx == k]\n",
    "    return (dict_k_df_X, dict_k_s_y)\n",
    "    \n",
    "def check_partition_lengths(d_df_x, d_s_y, df_X):\n",
    "    tot = 0\n",
    "    for i in d_df_x.keys():\n",
    "        tot += len(d_df_x[i])\n",
    "        print('Fold {:d} length of df is {:d} and length of series is {:d}'.format(i, len(d_df_x[i], len(d_s_y[i]))))\n",
    "'''"
   ]
  },
  {
   "cell_type": "markdown",
   "metadata": {},
   "source": [
    "## Q1.4 Define a function that calculates a regression metric\n",
    "This function should accept two series of equal length $n$ numpy arrays, `s_y`, and `s_y_hat`. The metric it should calculate is the mean absolute error, $MAE = \\sum\\limits_{i=1}^n\\frac{|{s\\_y_i - {s\\_y\\_hat}_i}|}{n}$ \n",
    "\n",
    "Test your function by using the vectors:\n",
    "```\n",
    "x = np.array([1,2,3])\n",
    "y = np.array([2,2,3])\n",
    "```\n"
   ]
  },
  {
   "cell_type": "code",
   "execution_count": 6,
   "metadata": {},
   "outputs": [],
   "source": [
    "def get_mae( s_y, s_y_hat):\n",
    "    n = len(s_y)\n",
    "    val = [np.abs(s_y[i] - s_y_hat[i])/n for i in range(n)]\n",
    "    return np.sum(val)\n",
    "\n",
    "'''\n",
    "def get_mae(s_y,s_y_hat):\n",
    "    return np.sum(np.abs(s_y-s_y_hat)/len(s_y))\n",
    "'''"
   ]
  },
  {
   "cell_type": "code",
   "execution_count": 7,
   "metadata": {},
   "outputs": [
    {
     "data": {
      "text/plain": [
       "0.3333333333333333"
      ]
     },
     "execution_count": 7,
     "metadata": {},
     "output_type": "execute_result"
    }
   ],
   "source": [
    "x = np.array([1,2,3])\n",
    "y = np.array([2,2,3])\n",
    "get_mae(x,y)"
   ]
  },
  {
   "cell_type": "markdown",
   "metadata": {},
   "source": [
    "0.333333"
   ]
  },
  {
   "cell_type": "markdown",
   "metadata": {},
   "source": [
    "## Q1.5 Calculate the $MAE$ for each fold\n",
    "For each fold in your dictionaries, calculate the $MAE$.  Use the partition number key as the test set, and all other partitions as the train set. \n",
    "\n",
    "Print the min, max, and mean $MAE$ of your 5 folds. "
   ]
  },
  {
   "cell_type": "code",
   "execution_count": 12,
   "metadata": {},
   "outputs": [],
   "source": [
    "mae = np.array([])\n",
    "for k in dict_k_df_X.keys():\n",
    "    X = dict_k_df_X[k]\n",
    "    y = dict_k_s_y[k]\n",
    "    \n",
    "    train_X = df_X[df_X.index.isin(X.index) == False]\n",
    "    train_y = s_y[s_y.index.isin(y.index) == False]\n",
    "    beta = get_linear_regression_model(train_X,train_y)\n",
    "    X = np.insert(X.to_numpy(),0,1, axis=1)\n",
    "    s_y_hat = np.matmul(X, beta)\n",
    "        \n",
    "    mae = np.append(mae, get_mae(y.to_numpy(),s_y_hat))  "
   ]
  },
  {
   "cell_type": "code",
   "execution_count": null,
   "metadata": {},
   "outputs": [],
   "source": [
    "'''\n",
    "mae = np.array([])\n",
    "for k in dict_k_df_X.keys():\n",
    "    train_df_X = pd.DataFrame()\n",
    "    train_s_y = pd.Series(dtype = float)\n",
    "    for not_k in dict_k_df_X.keys():\n",
    "        if not_k != k:\n",
    "            train_df_X = pd.concat([train_df_X, dict_k_df_X[not_k]])\n",
    "            train_s_y = train_s_y.append(dict_k_s_y[not_k])\n",
    "    test_df_X = dict_k_df_X[k]\n",
    "    test_s_y = dict_k_s_y[k]\n",
    "    \n",
    "    train_df_X = pd.concat([pd.DataFrame({'intercept':np.ones(len(train_df_X))},index=train_df_X.index),train_f_X], axis=1)\n",
    "    \n",
    "    this_beta_hat = get_linear_regression_model(train_df_X, train_s_y)\n",
    "    \n",
    "    test_df_X = pd.concat([pd.DataFrame({'intercept':np.ones(len(test_df_X))},index=test_df_X.index),test_f_X], axis=1)\n",
    "    s_y_hat = test_df_X.apply(lambda x: np.matmul(x, this_beta_hat), axis = 1)\n",
    "    \n",
    "    mae = np.append(mae, get_mae(y.to_numpy(),s_y_hat))  \n",
    "'''"
   ]
  },
  {
   "cell_type": "code",
   "execution_count": 13,
   "metadata": {},
   "outputs": [
    {
     "name": "stdout",
     "output_type": "stream",
     "text": [
      "MAE of 5 folds are: [48.98955398 38.24598233 46.51765508 41.89313702 49.87655179]\n",
      "Min is 38.24598232770997,\n",
      "Max is 49.87655179336028,\n",
      "Mean is 45.10457604028806\n"
     ]
    }
   ],
   "source": [
    "print('MAE of 5 folds are:', mae)\n",
    "print('Min is {},\\nMax is {},\\nMean is {}'.format(np.min(mae),np.max(mae),np.mean(mae)))"
   ]
  },
  {
   "cell_type": "markdown",
   "metadata": {},
   "source": [
    "# Part 2 - Find the best hyperparameter to use in a Decision Tree "
   ]
  },
  {
   "cell_type": "markdown",
   "metadata": {},
   "source": [
    "## Q2.1 Load the iris data in as a pandas dataframe and a series\n",
    "Documentation is [here](https://scikit-learn.org/stable/modules/generated/sklearn.datasets.load_iris.html). Name your features dataframe (the independent variables) `df_X` and your classification target (the dependent variable) series `s_y`"
   ]
  },
  {
   "cell_type": "code",
   "execution_count": 14,
   "metadata": {},
   "outputs": [],
   "source": [
    "df_X, s_y = load_iris(return_X_y = True, as_frame = True)"
   ]
  },
  {
   "cell_type": "markdown",
   "metadata": {},
   "source": [
    "## Q2.2 Partition `df_X` and `s_y` into $5$ partitions of roughly equal size\n",
    "Make 2 dictionaries, with the key of each dictionary the fold number.  The value of the dictionary `dict_k_df_X` is the $k^{th}$ partition of the data, and the value of the dictionary `dict_k_s_y` is the corresponding $k^{th}$ target classification.  Print out the number of rows in each fold.  Check that the number of data points in each partition totals the number of data points in the entire dataset. "
   ]
  },
  {
   "cell_type": "code",
   "execution_count": 15,
   "metadata": {},
   "outputs": [
    {
     "name": "stdout",
     "output_type": "stream",
     "text": [
      "1th fold: 30 rows\n",
      "2th fold: 30 rows\n",
      "3th fold: 30 rows\n",
      "4th fold: 26 rows\n",
      "5th fold: 34 rows\n",
      "Total rows: 150\n"
     ]
    }
   ],
   "source": [
    "(dict_k_df_X, dict_k_s_y) = partition_data(df_X, s_y, 5)\n",
    "total2 = 0\n",
    "for i in range(1, 6):\n",
    "    total2 += len(dict_k_s_y[i])\n",
    "    print('{}th fold: {} rows'.format(i, len(dict_k_df_X[i])))\n",
    "print('Total rows: ' + str(total2))"
   ]
  },
  {
   "cell_type": "markdown",
   "metadata": {},
   "source": [
    "## Q2.3 Define a function that calculates accuracy\n",
    "The function should accept two series and compare each element for equality.  The accuracy is the number of equal elements divided by the total number of elements.\n",
    "\n",
    "Test your accuracy function by calling it with the `s_y` loaded from the iris data set and an array of the same length containing all $1$ values. "
   ]
  },
  {
   "cell_type": "code",
   "execution_count": 16,
   "metadata": {},
   "outputs": [],
   "source": [
    "def get_acc( s_1, s_2 ):\n",
    "    count = 0\n",
    "    for i in range(len(s_1)):\n",
    "        if s_1[i] == s_2[i]:\n",
    "            count += 1\n",
    "        else:\n",
    "            count += 0\n",
    "    return count/len(s_1)"
   ]
  },
  {
   "cell_type": "code",
   "execution_count": 17,
   "metadata": {},
   "outputs": [
    {
     "data": {
      "text/plain": [
       "0.3333333333333333"
      ]
     },
     "execution_count": 17,
     "metadata": {},
     "output_type": "execute_result"
    }
   ],
   "source": [
    "get_acc(s_y,np.ones(len(s_y)))"
   ]
  },
  {
   "cell_type": "markdown",
   "metadata": {},
   "source": [
    "## Q2.4 Using Nested Cross validation, find the best hyperparameter\n",
    "Use the [Decision Tree Classifier](https://scikit-learn.org/stable/modules/tree.html#classification) class to build a decision tree inside of a 5-fold cross validation loop.  The partitions you already created in 2.2 will be the outer loop.  In the inside loop you should use 4-fold cross validation (so you don't have to partition _again_) to find the best value for `min_impurity_decrease`.  Use the Gini Index as your impurity measure. \n",
    "    Calculate the mean accuracy across the 4 folds of your inner loop for all the candidate `min_impurity_decrease` values, and print the value.  Use the array `np.array([0.1,0.25,0.3,0.4])` as the candidates for the best hyperparameter. If there is a tie (two `min_impurity_decrease` values give the same highest accuracy), choose the lowest `min_impurity_decrease` value. \n",
    "\n",
    "For each inner loop, select the best `min_impurity_decrease` and train the outer fold training data on using that value. \n",
    "\n",
    "For each inner loop, your output should look something like this:\n",
    "```\n",
    "Testing 0.10 min impurity decrease\n",
    "\tAverage accuracy over 4 folds is 0.95\n",
    "Testing 0.25 min impurity decrease\n",
    "\tAverage accuracy over 4 folds is 0.86\n",
    "Testing 0.30 min impurity decrease\n",
    "\tAverage accuracy over 4 folds is 0.63\n",
    "Testing 0.40 min impurity decrease\n",
    "\tAverage accuracy over 4 folds is 0.27\n",
    "\n",
    "Best min impurity decrease is 0.1\n",
    "\n",
    "```"
   ]
  },
  {
   "cell_type": "code",
   "execution_count": 54,
   "metadata": {},
   "outputs": [
    {
     "name": "stdout",
     "output_type": "stream",
     "text": [
      "\n",
      "Testing 0.1 min impurity decrease\n",
      "\tAverage accuracy over 4 folds is 0.9749824069492551\n",
      "\n",
      "Testing 0.25 min impurity decrease\n",
      "\tAverage accuracy over 4 folds is 0.9749824069492551\n",
      "\n",
      "Testing 0.3 min impurity decrease\n",
      "\tAverage accuracy over 4 folds is 0.7395686953653307\n",
      "\n",
      "Testing 0.4 min impurity decrease\n",
      "\tAverage accuracy over 4 folds is 0.3688009236351641\n",
      "\n",
      "Best min impurity decrease is 0.1 \n",
      "--------------------------------------------------\n",
      "\n",
      "Testing 0.1 min impurity decrease\n",
      "\tAverage accuracy over 4 folds is 0.9650681730716368\n",
      "\n",
      "Testing 0.25 min impurity decrease\n",
      "\tAverage accuracy over 4 folds is 0.8156710099510693\n",
      "\n",
      "Testing 0.3 min impurity decrease\n",
      "\tAverage accuracy over 4 folds is 0.7045082192533949\n",
      "\n",
      "Testing 0.4 min impurity decrease\n",
      "\tAverage accuracy over 4 folds is 0.36859420528891085\n",
      "\n",
      "Best min impurity decrease is 0.1 \n",
      "--------------------------------------------------\n",
      "\n",
      "Testing 0.1 min impurity decrease\n",
      "\tAverage accuracy over 4 folds is 0.9583927098795975\n",
      "\n",
      "Testing 0.25 min impurity decrease\n",
      "\tAverage accuracy over 4 folds is 0.8585345538512288\n",
      "\n",
      "Testing 0.3 min impurity decrease\n",
      "\tAverage accuracy over 4 folds is 0.6878239595359832\n",
      "\n",
      "Testing 0.4 min impurity decrease\n",
      "\tAverage accuracy over 4 folds is 0.3636236186706251\n",
      "\n",
      "Best min impurity decrease is 0.1 \n",
      "--------------------------------------------------\n",
      "\n",
      "Testing 0.1 min impurity decrease\n",
      "\tAverage accuracy over 4 folds is 0.95964233966293\n",
      "\n",
      "Testing 0.25 min impurity decrease\n",
      "\tAverage accuracy over 4 folds is 0.8553870205139938\n",
      "\n",
      "Testing 0.3 min impurity decrease\n",
      "\tAverage accuracy over 4 folds is 0.6934141691451232\n",
      "\n",
      "Testing 0.4 min impurity decrease\n",
      "\tAverage accuracy over 4 folds is 0.3681255242888737\n",
      "\n",
      "Best min impurity decrease is 0.1 \n",
      "--------------------------------------------------\n",
      "\n",
      "Testing 0.1 min impurity decrease\n",
      "\tAverage accuracy over 4 folds is 0.9615601888977992\n",
      "\n",
      "Testing 0.25 min impurity decrease\n",
      "\tAverage accuracy over 4 folds is 0.9615601888977992\n",
      "\n",
      "Testing 0.3 min impurity decrease\n",
      "\tAverage accuracy over 4 folds is 0.7427327808963735\n",
      "\n",
      "Testing 0.4 min impurity decrease\n",
      "\tAverage accuracy over 4 folds is 0.36738216163236215\n",
      "\n",
      "Best min impurity decrease is 0.1 \n",
      "--------------------------------------------------\n"
     ]
    }
   ],
   "source": [
    "possible_min_impurity_decrease = np.array([0.1,0.25,0.3,0.4])\n",
    "\n",
    "# Outer loop\n",
    "outer_acc = np.array([])\n",
    "X_train = {}\n",
    "y_train = {}\n",
    "for k in dict_k_df_X.keys():\n",
    "    mid_acc = np.array([])\n",
    "    \n",
    "    for pos_min_impurity in possible_min_impurity_decrease:\n",
    "        # Inner loop cross validation code here (use 4 folds, where the fold does not include k)\n",
    "        inner_acc = np.array([])\n",
    "        clf = tree.DecisionTreeClassifier(criterion = 'gini', min_impurity_decrease = pos_min_impurity)\n",
    "        X = {}\n",
    "        y = {}\n",
    "        for j in dict_k_df_X.keys():\n",
    "            if j == k:\n",
    "                pass\n",
    "            \n",
    "            X[j] = df_X[(df_X.index.isin(dict_k_df_X[k].index) == False) & (df_X.index.isin(dict_k_df_X[j].index) == False)]\n",
    "            y[j] = s_y[(s_y.index.isin(dict_k_s_y[k].index) == False) & (s_y.index.isin(dict_k_s_y[j].index) == False)]\n",
    "                \n",
    "            clf = clf.fit(X[j], y[j])\n",
    "            s_y_hat = clf.predict(X[j])\n",
    "            acc = get_acc(s_y_hat, y[j].to_list())\n",
    "            inner_acc = np.append(inner_acc, acc)\n",
    "            \n",
    "        mid_acc = np.append(mid_acc, inner_acc.mean())\n",
    "        print('\\nTesting {} min impurity decrease'.format(pos_min_impurity))\n",
    "        print('\\tAverage accuracy over 4 folds is {}'.format(inner_acc.mean()))\n",
    "        \n",
    "    # Use best min impurity decrease to train model\n",
    "    for i in range(len(mid_acc)):\n",
    "        if mid_acc[i] == mid_acc.max():\n",
    "            p = possible_min_impurity_decrease[i]\n",
    "            break\n",
    "    print('\\nBest min impurity decrease is', p, '\\n' + '-'*50)\n",
    "    clf = tree.DecisionTreeClassifier(criterion = 'gini', min_impurity_decrease = p)\n",
    "    X_train[k] = df_X[df_X.index.isin(dict_k_df_X[k].index) == False]\n",
    "    y_train[k] = s_y[s_y.index.isin(dict_k_s_y[k].index) == False]\n",
    "    clf = clf.fit(X_train[k], y_train[k])\n",
    "    \n",
    "    # outer accuracy calculation \n",
    "    test_pre = clf.predict(X_train[k])\n",
    "    this_acc = get_acc(test_pre, y_train[k].to_list())\n",
    "    outer_acc = np.append(outer_acc,this_acc)"
   ]
  },
  {
   "cell_type": "code",
   "execution_count": null,
   "metadata": {},
   "outputs": [],
   "source": [
    "'''\n",
    "possible_min_impurity_decrease = np.array([0.1,0.25,0.3,0.4])\n",
    "\n",
    "outer_acc = np.array([])\n",
    "for k in dict_k_df_X.keys():\n",
    "    train_df_X = pd.DataFrame()\n",
    "    train_s_y = pd.Series(dtype=float)\n",
    "    \n",
    "    ave_pos_min_impurity_acc = np.array([])\n",
    "    for pos_min_impurity in possible_min_impurity_decrease:\n",
    "        pos_min_impurity_acc = np.array([])\n",
    "        print('Testing {:.2f} min impurity decrease'.format(pos_min_impurity))\n",
    "        \n",
    "        poss_keys = list(dict_k_df_X.keys())\n",
    "        poss_keys.remove(k)\n",
    "        for inner_k in poss_keys:\n",
    "            inner_train_df_X = pd.DataFrame()\n",
    "            inner_train_s_y = pd.Series(dtype=float)\n",
    "            \n",
    "            for not_inner_k in poss_keys:\n",
    "                if not_inner_k != inner_k:\n",
    "                    inner_train_df_X = pd.concat([inner_train_df_X, dict_k_df_X[not_inner_k]])\n",
    "                    inner_train_s_y = inner_train_s_y.append(dict_k_s_y[not_inner_k])\n",
    "                    \n",
    "            inner_test_df_X = dict_k_df_X[inner_k]\n",
    "            inner_test_s_y = dict_k_s_y[inner_k]\n",
    "            \n",
    "            clf = tree.DecisionTreeClassifier(criterion='gini', min_impurity_decrease = pos_min_impurity)\n",
    "            clf = clf.fit(inner_train_df_X, inner_train_s_y)\n",
    "            \n",
    "            this_acc = get_acc(inner_test_s_y, clf.predict(inner_test_df_X))\n",
    "            pos_min_impurity_acc = np.append(pos_min_impurity_acc, this_acc)\n",
    "        \n",
    "        avg_pos_min_impurity_acc = np.append(avg_pos_min_impurity_acc, pos_min_impurity_acc.mean())\n",
    "        print('\\tAverage accuracy over {:d} folds is {:.2f}'.format(len(poss_keys), pos_min_impurity_acc.mean()))\n",
    "    \n",
    "    indx_best = np.argmin(1 - ave_pos_min_impurity_acc)\n",
    "    print('\\nBest min impurity decrease is {}\\n'.format(possible_min_impurity_decrease[indx_best]))\n",
    "\n",
    "    this_min_impurity_decrease = possible_min_impurity_decrease[indx_best]\n",
    "    \n",
    "    for not_k in dict_k_df_X.keys():\n",
    "        if not_k != k:\n",
    "            train_df_X = pd.concat([train_df_X, dict_k_df_X[not_k]])\n",
    "            train_s_y = train_s_y.append(dict_k_s_y[not_k])\n",
    "            \n",
    "    test_df_X = dict_k_df_X[k]\n",
    "    test_s_y = dict_k_s_y[k]\n",
    "    \n",
    "    clf = tree.DecisionTreeClassifier(criterion='gini', min_impurity_decrease=this_min_impurity_decrease)\n",
    "    clf = clf.fit(train_df_X, train_s_y)\n",
    "    \n",
    "    this_acc = get_acc(test_s_y, clf.predict(test_df_X))\n",
    "    outer_acc = np.append(outer_acc,this_acc)\n",
    "    \n",
    "'''"
   ]
  },
  {
   "cell_type": "markdown",
   "metadata": {},
   "source": [
    "## Q2.5 Show the generalized performance of the classifier \n",
    "Show the generalized performance of the classifier by printing the min, max, and mean accuracy of the outer fold test sets."
   ]
  },
  {
   "cell_type": "code",
   "execution_count": 55,
   "metadata": {},
   "outputs": [
    {
     "name": "stdout",
     "output_type": "stream",
     "text": [
      "[0.975      0.95833333 0.95833333 0.95967742 0.95689655]\n",
      "Min: 0.9568965517241379\n",
      "Max: 0.975\n",
      "Mean: 0.9616481275491287\n"
     ]
    }
   ],
   "source": [
    "print(outer_acc)\n",
    "print('Min: {}\\nMax: {}\\nMean: {}'.format(outer_acc.min(), outer_acc.max(), outer_acc.mean()))"
   ]
  },
  {
   "cell_type": "code",
   "execution_count": null,
   "metadata": {},
   "outputs": [],
   "source": []
  }
 ],
 "metadata": {
  "kernelspec": {
   "display_name": "Python 3",
   "language": "python",
   "name": "python3"
  },
  "language_info": {
   "codemirror_mode": {
    "name": "ipython",
    "version": 3
   },
   "file_extension": ".py",
   "mimetype": "text/x-python",
   "name": "python",
   "nbconvert_exporter": "python",
   "pygments_lexer": "ipython3",
   "version": "3.7.2"
  }
 },
 "nbformat": 4,
 "nbformat_minor": 4
}

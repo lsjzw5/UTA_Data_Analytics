{
 "cells": [
  {
   "cell_type": "markdown",
   "metadata": {},
   "source": [
    "## C S 329E HW7\n",
    "\n",
    "# Ensemble Methods and Skewed Data\n",
    "\n",
    "## Louie Wang (zw5565)\n",
    "\n",
    "For this week's homework we are going explore two ensemble methods:\n",
    "\n",
    "  - AdaBoost, and\n",
    "  - Random Forests\n",
    "  \n",
    "Along with applying different KPIs (key performance indicators) that are more appropriate to highly skewed data sets. \n",
    "\n",
    "The dataset contains transactions made by credit cards in September 2013 by european cardholders.\n",
    "This dataset presents transactions that occurred in two days, where we have 237 frauds out of 142,167 transactions. The dataset is highly unbalanced, the positive class (frauds) account for 0.17% of all transactions.\n",
    "\n",
    "It contains only numerical input variables which are the result of a [PCA transformation](https://en.wikipedia.org/wiki/Principal_component_analysis). Unfortunately, due to confidentiality issues, we cannot provide the original features and more background information about the data. Features V1, V2, … V28 are the principal components obtained with PCA, the only features which have not been transformed with PCA are 'Time' and 'Amount'. Feature 'Time' contains the seconds elapsed between each transaction and the first transaction in the dataset. The feature 'Amount' is the transaction Amount in Euros. Feature 'Class' is the response variable and it takes value 1 in case of fraud and 0 otherwise.\n",
    "\n",
    "At the end of this homework, I expect you to understand how to train and use ensemble classifiers, how to characterize model performance with ROC curves, and be familiar with the difference between accuracy, true positive rate, and positive predictive value. "
   ]
  },
  {
   "cell_type": "code",
   "execution_count": 1,
   "metadata": {},
   "outputs": [],
   "source": [
    "# These are the libraries you will use for this assignment, you may not import anything else\n",
    "import pandas as pd\n",
    "import numpy as np\n",
    "import matplotlib.pyplot as plt\n",
    "%matplotlib inline\n",
    "from sklearn.ensemble import AdaBoostClassifier\n",
    "from sklearn.ensemble import RandomForestClassifier\n",
    "from sklearn.model_selection import StratifiedKFold\n",
    "from sklearn.metrics import plot_roc_curve\n",
    "\n",
    "# This is the credit card data provided, we'll use sklearn methods to do cross validation\n",
    "# to estimate error\n",
    "df_cc = pd.read_csv('cc.csv')"
   ]
  },
  {
   "cell_type": "markdown",
   "metadata": {},
   "source": [
    "## Q1 Parition the data for cross validation\n",
    "\n",
    "Load the data, and split the data set into $X$ (the feature dataframe, `df_X`) and $y$ (the target series `s_y`). Define our partitions.  \n",
    "\n",
    "We know this is a _super_ skewed data set, so we worry about our target class being underrepresented in a random k-fold selection. With this in mind, we use a [stratifed k-fold](https://scikit-learn.org/stable/modules/generated/sklearn.model_selection.StratifiedKFold.html), since it will preserve our class balance in our experiements. Use $k=3$, . Instantiate an instance of the `StratifiedKFold` class, and use the generator `split` to populate the test and train dictonaries:\n",
    "   - `d_train_df_X` : key is the fold number, value is the attribute training dataframe at that fold\n",
    "   - `d_test_df_X`  : key is the fold number, value is the attribute test dataframe at that fold\n",
    "   - `d_train_s_y`  : key is the fold number, value is the target training series at that fold\n",
    "   - `d_train_s_y`  : key is the fold number, value is the target test series at that fold"
   ]
  },
  {
   "cell_type": "code",
   "execution_count": 2,
   "metadata": {},
   "outputs": [],
   "source": [
    "df_X = df_cc.drop(columns=['Class'])\n",
    "s_y = df_cc['Class']"
   ]
  },
  {
   "cell_type": "code",
   "execution_count": 3,
   "metadata": {},
   "outputs": [],
   "source": [
    "skf = StratifiedKFold(n_splits=3,shuffle=True,random_state=23)"
   ]
  },
  {
   "cell_type": "code",
   "execution_count": 4,
   "metadata": {},
   "outputs": [],
   "source": [
    "d_train_df_X = dict()\n",
    "d_test_df_X = dict()\n",
    "d_train_s_y = dict()\n",
    "d_test_s_y = dict()\n",
    "\n",
    "fold = 1\n",
    "for train_idx, test_idx in skf.split(df_X, s_y):\n",
    "    d_train_df_X[fold] = df_X.iloc[train_idx]\n",
    "    d_test_df_X[fold] = df_X.iloc[test_idx]\n",
    "    d_train_s_y[fold] = s_y.iloc[train_idx]\n",
    "    d_test_s_y[fold] = s_y.iloc[test_idx]\n",
    "    fold += 1"
   ]
  },
  {
   "cell_type": "code",
   "execution_count": 5,
   "metadata": {
    "scrolled": true
   },
   "outputs": [
    {
     "name": "stdout",
     "output_type": "stream",
     "text": [
      "0    47389\n",
      "1       79\n",
      "Name: Class, dtype: int64\n",
      "0    47389\n",
      "1       79\n",
      "Name: Class, dtype: int64\n",
      "0    47389\n",
      "1       79\n",
      "Name: Class, dtype: int64\n"
     ]
    }
   ],
   "source": [
    "# Look at the test data and verify that the target training is equally distributed as possible\n",
    "for key in d_test_s_y.keys():\n",
    "    print(d_test_s_y[key].value_counts())"
   ]
  },
  {
   "cell_type": "markdown",
   "metadata": {},
   "source": [
    "## Section 1 - AdaBoost"
   ]
  },
  {
   "cell_type": "markdown",
   "metadata": {},
   "source": [
    "# Q2 Test the Performance of AdaBoost\n",
    "\n",
    "When we talked about AdaBoost in class, we used a collection of \"Decision Stumps\". In this assignment, we will use the implementation of [AdaBoost in Scikit-learn](https://scikit-learn.org/stable/modules/generated/sklearn.ensemble.AdaBoostClassifier.html).  As you browse the documentation, you will notice that the default base esimator in this implentation is a `DecisionTreeClassifier(max_depth=1)` (our friend the decision stump). \n",
    "\n",
    "After you fit an AdaBoost model, you can call the method `predict` to get a class prediction, or you can call `predict_proba` to get the probability of being in the class `0` or the class `1`. These probabilities are used when creating ROC curves. \n",
    "\n",
    "Loop over the $k$ folds using the dictionaries from the first problem, and for each fold calculate the accuracy, TPR, the PPV, and the FPR.  Plot the ROC curve for each fold. You may use the [plot roc curve](https://scikit-learn.org/stable/modules/generated/sklearn.metrics.plot_roc_curve.html) from Scikit-learn.  There is a great example in the documentation [on plotting ROC curves in cross validation](https://scikit-learn.org/stable/auto_examples/model_selection/plot_roc_crossval.html) that is helpful.  \n",
    "\n",
    "When creating your AdaBoost classifier, please use the following parameters: \n",
    "`AdaBoostClassifier(n_estimators=25, random_state=23)`\n",
    "\n",
    "Save the predictions from the 3rd fold into a variable called `y_hat_ab` for use in a future problem.\n"
   ]
  },
  {
   "cell_type": "code",
   "execution_count": 6,
   "metadata": {},
   "outputs": [],
   "source": [
    "k = 3\n",
    "acc_ab = np.zeros(k)\n",
    "tpr_ab = np.zeros(k)\n",
    "ppv_ab = np.zeros(k)\n",
    "fpr_ab = np.zeros(k)"
   ]
  },
  {
   "cell_type": "code",
   "execution_count": 7,
   "metadata": {},
   "outputs": [],
   "source": [
    "def get_acc(s_y, s_y_hat):\n",
    "    acc = 0\n",
    "    s_y = s_y.to_numpy()\n",
    "    for i in range(len(s_y)):\n",
    "        if s_y[i] == s_y_hat[i]:\n",
    "            acc += 1\n",
    "    return acc/len(s_y)      "
   ]
  },
  {
   "cell_type": "code",
   "execution_count": 8,
   "metadata": {},
   "outputs": [],
   "source": [
    "def get_matrix(s_y, s_y_hat):\n",
    "    TP = 0\n",
    "    FP = 0\n",
    "    TN = 0\n",
    "    FN = 0\n",
    "    s_y = s_y.to_numpy()\n",
    "    for i in range(len(s_y)):\n",
    "        if s_y[i] == s_y_hat[i]:\n",
    "            if s_y[i] == 1:\n",
    "                TP += 1\n",
    "            else:\n",
    "                TN += 1\n",
    "        else:\n",
    "            if s_y[i] == 1:\n",
    "                FN += 1\n",
    "            else:\n",
    "                FP += 1\n",
    "    return [TP, FN, FP, TN]"
   ]
  },
  {
   "cell_type": "code",
   "execution_count": null,
   "metadata": {},
   "outputs": [],
   "source": [
    "'''\n",
    "fold_count = 0\n",
    "fig, ax = plt.subplots()\n",
    "\n",
    "for key in d_train_df_X.keys():\n",
    "    print('Working on {}'.format(key))\n",
    "    clf.fit(d_train_df_X[key], d_train_s_y[key])\n",
    "    y_hat = clf.predict(d_test_df_X[key])\n",
    "    \n",
    "    viz = plot_roc_curve(clf, d_test_df_X[key], d_test_s_y[key], name = 'Fold {}'.format(fold), ax = ax)\n",
    "    \n",
    "    acc_ab[fold_count] = (y_hat == d_test_s_y[key]).sum()/len(d_test_s_y[key])\n",
    "    \n",
    "    true_indx = d_test_s_y[key] == 1\n",
    "    false_indx = d_test_s_y[key] == 0\n",
    "    \n",
    "    tpr_ab[fold_count] = (y_hat[true_indx] == d_test_s_y[key][true_indx]).sum()/len(d_test_s_y[key][true_indx])\n",
    "    \n",
    "    fpr_ab[fold_count] = (y_hat[false_indx] != d_test_s_y[key][false_indx]).sum()/len(d_test_s_y[key][false_indx])\n",
    "    \n",
    "    predicted_pos_indx = y_hat == 1\n",
    "    ppv_ab[fold_count] = (y_hat[true_indx] == d_test_s_y[key][true_indx]).sum()/len(y_hat[predicted_pos_indx])\n",
    "    \n",
    "    fold_count += 1\n",
    "    \n",
    "ax.plot([0,1],[0,1], linestyle = '--', lw=2, label='Chance', alpha = 0.8)\n",
    "plt.show()\n",
    "\n",
    "y_hat_ab = y_hat\n",
    "'''"
   ]
  },
  {
   "cell_type": "code",
   "execution_count": 16,
   "metadata": {},
   "outputs": [
    {
     "data": {
      "image/png": "[encoded data removed]",
      "text/plain": [
       "<Figure size 432x288 with 1 Axes>"
      ]
     },
     "metadata": {
      "needs_background": "light"
     },
     "output_type": "display_data"
    }
   ],
   "source": [
    "clf = AdaBoostClassifier(n_estimators = 25, random_state = 23)\n",
    "roc_probs_ab = []\n",
    "\n",
    "ax = plt.gca()\n",
    "plt.title('ROC curves from AdaBoost')\n",
    "for fold in range(1, k + 1):\n",
    "    clf.fit(d_train_df_X[fold], d_train_s_y[fold])\n",
    "    predict_s_y = clf.predict(d_test_df_X[fold])\n",
    "    predict_prob = clf.predict_proba(d_test_df_X[fold])\n",
    "    roc_probs_ab.append(predict_prob)\n",
    "    if fold == 3:\n",
    "        y_hat_ab = predict_s_y\n",
    "        \n",
    "    acc = get_acc(d_test_s_y[fold], predict_s_y)\n",
    "    m = get_matrix(d_test_s_y[fold], predict_s_y)\n",
    "    tpr = m[0]/(m[0] + m[1])\n",
    "    ppv = m[0]/(m[0] + m[2])\n",
    "    fpr = m[2]/(m[2] + m[3])\n",
    "    acc_ab[fold-1] = acc\n",
    "    tpr_ab[fold-1] = tpr\n",
    "    ppv_ab[fold-1] = ppv\n",
    "    fpr_ab[fold-1] = fpr\n",
    "    \n",
    "    plot_roc_curve(clf, d_test_df_X[fold], d_test_s_y[fold], name = 'Fold {}'.format(fold), ax = ax)"
   ]
  },
  {
   "cell_type": "code",
   "execution_count": 17,
   "metadata": {},
   "outputs": [
    {
     "name": "stdout",
     "output_type": "stream",
     "text": [
      "The min, mean, and max TPR are: 0.62, 0.65, and 0.71\n",
      "The min, mean, and max PPV are: 0.75, 0.79, and 0.82\n",
      "The min, mean, and max ACC are: 1.00, 1.00, and 1.00\n"
     ]
    }
   ],
   "source": [
    "print('The min, mean, and max TPR are: {:.2f}, {:.2f}, and {:.2f}'.format(tpr_ab.min(), tpr_ab.mean(), tpr_ab.max()))\n",
    "print('The min, mean, and max PPV are: {:.2f}, {:.2f}, and {:.2f}'.format(ppv_ab.min(), ppv_ab.mean(), ppv_ab.max()))\n",
    "print('The min, mean, and max ACC are: {:.2f}, {:.2f}, and {:.2f}'.format(acc_ab.min(), acc_ab.mean(), acc_ab.max()))"
   ]
  },
  {
   "cell_type": "markdown",
   "metadata": {},
   "source": [
    "## Q3 Test the Performance of Random Forests\n",
    "\n",
    "Now, let's try another ensemble method: Random Forests, again using the [Scikit-learn implementation](https://scikit-learn.org/stable/modules/generated/sklearn.ensemble.RandomForestClassifier.html). \n",
    "\n",
    "Following our book, we will build complete trees, with no pruning.  That means every leaf in the tree will be completelely pure, and if you exam an individual Decision Tree it would be overtrained to our training set.  While building the decision trees, at every internal node, we select $p$ attributes at random, and then find the best split that minimizes impurtity.  The value, $p$, is a hyperparamter of the Random Forest and corresponds to the `max_features` parameter in the Random Forest Class. \n",
    "\n",
    "After you fit an RandomForest model, you can call the method `predict` to get a class prediction, or you can call `predict_proba` to get the probability of being in the class `0` or the class `1`. These probabilities are used when creating ROC curves. \n",
    "\n",
    "Loop over the $k$ folds using the dictionaries from the first problem, and for each fold calculate the accuracy, TPR, the PPV, and the FPR.  Plot the ROC curve for each fold. You may use the [plot roc curve](https://scikit-learn.org/stable/modules/generated/sklearn.metrics.plot_roc_curve.html) from Scikit-learn. There is a great example in the documentation [on plotting ROC curves in cross validation](https://scikit-learn.org/stable/auto_examples/model_selection/plot_roc_crossval.html) that is helpful.  \n",
    "\n",
    "When creating your Random Forest classifier, please use the following parameters: \n",
    "`RandomForestClassifier(criterion=\"entropy\", max_features=\"sqrt\", random_state=23)`\n",
    "\n",
    "Save the predictions from the 3rd fold into a variable called `y_hat_rf` for use in a future problem."
   ]
  },
  {
   "cell_type": "code",
   "execution_count": 18,
   "metadata": {},
   "outputs": [],
   "source": [
    "k = 3\n",
    "acc_rf = np.zeros(k)\n",
    "tpr_rf = np.zeros(k)\n",
    "ppv_rf = np.zeros(k)\n",
    "fpr_rf = np.zeros(k)"
   ]
  },
  {
   "cell_type": "code",
   "execution_count": 19,
   "metadata": {},
   "outputs": [
    {
     "data": {
      "image/png": "[encoded data removed]",
      "text/plain": [
       "<Figure size 432x288 with 1 Axes>"
      ]
     },
     "metadata": {
      "needs_background": "light"
     },
     "output_type": "display_data"
    }
   ],
   "source": [
    "clf = RandomForestClassifier(criterion = 'entropy', max_features = 'sqrt', random_state = 23)\n",
    "roc_probs_rf = []\n",
    "ax = plt.gca()\n",
    "plt.title('ROC curves from RandomForest')\n",
    "for fold in range(1, k + 1):\n",
    "    clf.fit(d_train_df_X[fold], d_train_s_y[fold])\n",
    "    predict_s_y = clf.predict(d_test_df_X[fold])\n",
    "    predict_prob = clf.predict_proba(d_test_df_X[fold])\n",
    "    roc_probs_rf.append(predict_prob)\n",
    "    if fold == 3:\n",
    "        y_hat_rf = predict_s_y\n",
    "        \n",
    "    acc = get_acc(d_test_s_y[fold], predict_s_y)\n",
    "    m = get_matrix(d_test_s_y[fold], predict_s_y)\n",
    "    tpr = m[0]/(m[0] + m[1])\n",
    "    ppv = m[0]/(m[0] + m[2])\n",
    "    fpr = m[2]/(m[2] + m[3])\n",
    "    acc_rf[fold-1] = acc\n",
    "    tpr_rf[fold-1] = tpr\n",
    "    ppv_rf[fold-1] = ppv\n",
    "    fpr_rf[fold-1] = fpr\n",
    "    \n",
    "    plot_roc_curve(clf, d_test_df_X[fold], d_test_s_y[fold], name = 'Fold {}'.format(fold), ax = ax)"
   ]
  },
  {
   "cell_type": "code",
   "execution_count": 20,
   "metadata": {},
   "outputs": [
    {
     "name": "stdout",
     "output_type": "stream",
     "text": [
      "The min, mean, and max TPR are: 0.75, 0.78, and 0.80\n",
      "The min, mean, and max PPV are: 0.92, 0.93, and 0.95\n",
      "The min, mean, and max ACC are: 1.00, 1.00, and 1.00\n"
     ]
    }
   ],
   "source": [
    "print('The min, mean, and max TPR are: {:.2f}, {:.2f}, and {:.2f}'.format(tpr_rf.min(), tpr_rf.mean(), tpr_rf.max()))\n",
    "print('The min, mean, and max PPV are: {:.2f}, {:.2f}, and {:.2f}'.format(ppv_rf.min(), ppv_rf.mean(), ppv_rf.max()))\n",
    "print('The min, mean, and max ACC are: {:.2f}, {:.2f}, and {:.2f}'.format(acc_rf.min(), acc_rf.mean(), acc_rf.max()))"
   ]
  },
  {
   "cell_type": "markdown",
   "metadata": {},
   "source": [
    "# Q4 Calculate the Cost of Fraud \n",
    "\n",
    "In the above problems, we saved the predictions of the 3rd fold into the variables `y_hat_ab` and `y_hat_rf` for the AdaBoost and RandomForest models respectively. \n",
    "\n",
    "Now, Mr. Bank Man wants you to tell him how much money he is going to save if he deploys either of these fraud algorithms to the real-time payment processing system.  Assume that there is not a currently deployed fraud detection algorithm.  \n",
    "\n",
    "For every fraudulent transaction that is not predicted as fraudulent the bank looses twice that much money.  So, a fradulent charge for €10 is undectected, it costs the bank €20.  Also, if a charge is predicted as fradulent, but wasn't, it costs the bank a flat fee of €3 in customer service support to communicate with the customer, and mark the possible fraud as a normal transaction. \n",
    "\n",
    "Using the 3rd fold test sample, calculate how much money Mr Bank Man will save with each algorithm, and make a recommendation of which algorithm to deploy to production."
   ]
  },
  {
   "cell_type": "code",
   "execution_count": null,
   "metadata": {},
   "outputs": [],
   "source": [
    "'''\n",
    "fold_3_amount = d_test_df_X[3]['Amount']\n",
    "current_cost = fold_3_amount[d_test_s_y[3] == 1].sum() * 2\n",
    "\n",
    "cost_ab_undetected_fraud = fold_3_amount[(d_test_s_y[3] == 1) & (y_hat_ab == 0)].sum() * 2\n",
    "cost_ab_false_fraud = ((d_test_s_y[3] == 0) & (y_hat_ab == 1)).sum() * 3\n",
    "\n",
    "'''"
   ]
  },
  {
   "cell_type": "code",
   "execution_count": 21,
   "metadata": {},
   "outputs": [
    {
     "name": "stdout",
     "output_type": "stream",
     "text": [
      "The default cost to the bank is € 22484.74\n",
      "Mr Bank Man can cost € 8538.32 with AdaBoost and € 4363.38 with RandomForest\n",
      "He can save € 13946.42 with AdaBoost and € 18121.36 with RandomForest\n"
     ]
    }
   ],
   "source": [
    "X = d_test_df_X[3]\n",
    "y = d_test_s_y[3]\n",
    "df_test = pd.concat([X, y.to_frame()], axis = 1)\n",
    "df_test = df_test.reset_index(drop = True)\n",
    "default = df_test[df_test['Class'] == 1]['Amount'].sum() * 2\n",
    "print('The default cost to the bank is € {}'.format(default))\n",
    "\n",
    "ab_loss = 0\n",
    "rf_loss = 0\n",
    "for idx in range(len(y)):\n",
    "    if (y_hat_ab[idx] != y.to_list()[idx]):\n",
    "        if y_hat_ab[idx] == 0:\n",
    "            ab_loss += 2 * df_test.iloc[idx, -2]\n",
    "        else:\n",
    "            ab_loss += 3\n",
    "    else:\n",
    "        ab_loss += 0\n",
    "\n",
    "for idx in range(len(y)):\n",
    "    if (y_hat_rf[idx] != y.to_list()[idx]):\n",
    "        if y_hat_rf[idx] == 0:\n",
    "            rf_loss += 2 * df_test.iloc[idx, -2]\n",
    "        else:\n",
    "            rf_loss += 3\n",
    "    else:\n",
    "        rf_loss += 0\n",
    "        \n",
    "ab_save = default - ab_loss\n",
    "rf_save = default - rf_loss\n",
    "\n",
    "print('Mr Bank Man can cost € {:.2f} with AdaBoost and € {:.2f} with RandomForest'.format(ab_loss, rf_loss))\n",
    "print('He can save € {:.2f} with AdaBoost and € {:.2f} with RandomForest'.format(ab_save,rf_save))"
   ]
  },
  {
   "cell_type": "markdown",
   "metadata": {},
   "source": [
    "Mr Bank man will save more money if we deploy the `RandomForest` algorithm! "
   ]
  }
 ],
 "metadata": {
  "kernelspec": {
   "display_name": "Python 3",
   "language": "python",
   "name": "python3"
  },
  "language_info": {
   "codemirror_mode": {
    "name": "ipython",
    "version": 3
   },
   "file_extension": ".py",
   "mimetype": "text/x-python",
   "name": "python",
   "nbconvert_exporter": "python",
   "pygments_lexer": "ipython3",
   "version": "3.8.5"
  }
 },
 "nbformat": 4,
 "nbformat_minor": 4
}

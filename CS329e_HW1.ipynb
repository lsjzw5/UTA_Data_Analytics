{
 "cells": [
  {
   "cell_type": "markdown",
   "metadata": {},
   "source": [
    "# Homework 1\n",
    "\n",
    "## Louie Wang\n",
    "\n",
    "## Practice loading in data\n",
    "\n",
    "\n",
    "Using the file melb_data.csv load it into a pandas data frame"
   ]
  },
  {
   "cell_type": "code",
   "execution_count": 1,
   "metadata": {},
   "outputs": [],
   "source": [
    "import pandas as pd\n",
    "%matplotlib inline\n",
    "import matplotlib.pyplot as plt"
   ]
  },
  {
   "cell_type": "code",
   "execution_count": 2,
   "metadata": {},
   "outputs": [],
   "source": [
    "df = pd.read_csv('melb_data.csv')"
   ]
  },
  {
   "cell_type": "markdown",
   "metadata": {},
   "source": [
    "## How many unique suburbs are there?"
   ]
  },
  {
   "cell_type": "code",
   "execution_count": 3,
   "metadata": {},
   "outputs": [
    {
     "data": {
      "text/plain": [
       "314"
      ]
     },
     "execution_count": 3,
     "metadata": {},
     "output_type": "execute_result"
    }
   ],
   "source": [
    "df_suburbs = df['Suburb']\n",
    "df_unique_suburb = df_suburbs.drop_duplicates()\n",
    "df_unique_suburb.shape[0]\n",
    "\n",
    "'''\n",
    "len(df['Suburb'].drop_duplicates())\n",
    "'''"
   ]
  },
  {
   "cell_type": "markdown",
   "metadata": {},
   "source": [
    "Output: 314"
   ]
  },
  {
   "cell_type": "markdown",
   "metadata": {},
   "source": [
    "## How many unique properties are there?"
   ]
  },
  {
   "cell_type": "code",
   "execution_count": 4,
   "metadata": {},
   "outputs": [
    {
     "data": {
      "text/plain": [
       "13378"
      ]
     },
     "execution_count": 4,
     "metadata": {},
     "output_type": "execute_result"
    }
   ],
   "source": [
    "df_properties = df['Address']\n",
    "df_properties.drop_duplicates().shape[0]\n",
    "\n",
    "'''\n",
    "df_prop = df[['Address','Lattitude','Longitude']]\n",
    "len(df_prop.drop_duplicates())\n",
    "'''"
   ]
  },
  {
   "cell_type": "markdown",
   "metadata": {},
   "source": [
    "Output: 13378"
   ]
  },
  {
   "cell_type": "markdown",
   "metadata": {},
   "source": [
    "## What is the mean price of a property in the Kensington suburb?"
   ]
  },
  {
   "cell_type": "code",
   "execution_count": 5,
   "metadata": {},
   "outputs": [
    {
     "data": {
      "text/plain": [
       "831667.4358974359"
      ]
     },
     "execution_count": 5,
     "metadata": {},
     "output_type": "execute_result"
    }
   ],
   "source": [
    "df_k = df[df['Suburb']=='Kensington']\n",
    "df_k['Price'].mean()"
   ]
  },
  {
   "cell_type": "markdown",
   "metadata": {},
   "source": [
    "Output: 831667.44"
   ]
  },
  {
   "cell_type": "markdown",
   "metadata": {},
   "source": [
    "## What percentage of properties contain a YearBuilt value?"
   ]
  },
  {
   "cell_type": "code",
   "execution_count": 6,
   "metadata": {},
   "outputs": [
    {
     "data": {
      "text/plain": [
       "'60.420%'"
      ]
     },
     "execution_count": 6,
     "metadata": {},
     "output_type": "execute_result"
    }
   ],
   "source": [
    "df_has_value = df[df['YearBuilt'].notnull()]\n",
    "'{:.3%}'.format(df_has_value.shape[0]/df.shape[0])\n",
    "\n",
    "'''\n",
    "(1.0 - len(df[df['YearBuilt'].isnull()])/len(df)) * 100\n",
    "'''"
   ]
  },
  {
   "cell_type": "markdown",
   "metadata": {},
   "source": [
    "Output: 60.42%"
   ]
  },
  {
   "cell_type": "markdown",
   "metadata": {},
   "source": [
    "## Plot the Landsize as a histogram using 20 bins. Say something interesting about the graph. "
   ]
  },
  {
   "cell_type": "code",
   "execution_count": 7,
   "metadata": {},
   "outputs": [
    {
     "data": {
      "text/plain": [
       "<AxesSubplot:>"
      ]
     },
     "execution_count": 7,
     "metadata": {},
     "output_type": "execute_result"
    },
    {
     "data": {
      "image/png": "[encoded data removed]",
      "text/plain": [
       "<Figure size 432x288 with 1 Axes>"
      ]
     },
     "metadata": {
      "needs_background": "light"
     },
     "output_type": "display_data"
    }
   ],
   "source": [
    "df_landsize = df['Landsize']\n",
    "df_landsize.hist(bins=20,range=[0,3000])\n",
    "\n",
    "'''\n",
    "bins_edges = [0,100,200,300,400,500,600,700,800,900,1000,1100,1200,1300,1400,1500,1600,1700,1900,df['Landsize'].max()]\n",
    "plt.hist(df['Landsize'], bins = bins_edge, facecolor = 'g')\n",
    "plt.xlabel('Landsize')\n",
    "plt.ylabel('Number of houses')\n",
    "plt.xlim([0,2100])\n",
    "plt.text(1150,500,'Last bin is properties > 1900')\n",
    "plt.show()\n",
    "'''"
   ]
  },
  {
   "cell_type": "markdown",
   "metadata": {},
   "source": [
    "#The Landsize is extremely right skewed, meaning that the majority of the properties are within a small range of landsize, with very few being extremely large. "
   ]
  },
  {
   "cell_type": "markdown",
   "metadata": {},
   "source": [
    "## Plot a scatter plot of price as a function of BuildingArea using only rows that have a valid BuildingArea value"
   ]
  },
  {
   "cell_type": "code",
   "execution_count": 8,
   "metadata": {
    "scrolled": true
   },
   "outputs": [
    {
     "data": {
      "text/plain": [
       "<AxesSubplot:xlabel='BuildingArea', ylabel='Price'>"
      ]
     },
     "execution_count": 8,
     "metadata": {},
     "output_type": "execute_result"
    },
    {
     "data": {
      "image/png": "[encoded data removed]",
      "text/plain": [
       "<Figure size 432x288 with 1 Axes>"
      ]
     },
     "metadata": {
      "needs_background": "light"
     },
     "output_type": "display_data"
    }
   ],
   "source": [
    "df2 = df[df['BuildingArea'].notnull()]\n",
    "df2.plot.scatter(x='BuildingArea',y='Price')\n",
    "\n",
    "'''\n",
    "df_valid_area = df[-df['BuildingArea'].isnull()]\n",
    "plt.plot(df_valid_area['Building Area'], df_valid_area['Price'], 'bo')\n",
    "plt.xlable('Building Area')\n",
    "plt.ylabel('Price')\n",
    "plt.grid('on')\n",
    "plt.xlim([0,1000])     #limit the range and omit certain properties\n",
    "plt.text(625,5000000,'8 Properties not shown')\n",
    "plt.show()\n",
    "'''"
   ]
  },
  {
   "cell_type": "markdown",
   "metadata": {},
   "source": [
    "## List the top 10 SellerG, and what percentage of properties they have listed \n",
    "\n",
    "I'm going to assume that the SellerG column is the name of the seller group, so \"realtor\" in US parlance.  So, that column is interpreted as the seller that listed the property."
   ]
  },
  {
   "cell_type": "code",
   "execution_count": 9,
   "metadata": {},
   "outputs": [
    {
     "data": {
      "text/html": [
       "<div>\n",
       "<style scoped>\n",
       "    .dataframe tbody tr th:only-of-type {\n",
       "        vertical-align: middle;\n",
       "    }\n",
       "\n",
       "    .dataframe tbody tr th {\n",
       "        vertical-align: top;\n",
       "    }\n",
       "\n",
       "    .dataframe thead th {\n",
       "        text-align: right;\n",
       "    }\n",
       "</style>\n",
       "<table border=\"1\" class=\"dataframe\">\n",
       "  <thead>\n",
       "    <tr style=\"text-align: right;\">\n",
       "      <th></th>\n",
       "      <th>seller</th>\n",
       "      <th>counts</th>\n",
       "      <th>percent</th>\n",
       "    </tr>\n",
       "  </thead>\n",
       "  <tbody>\n",
       "    <tr>\n",
       "      <th>0</th>\n",
       "      <td>Nelson</td>\n",
       "      <td>1565</td>\n",
       "      <td>11.52%</td>\n",
       "    </tr>\n",
       "    <tr>\n",
       "      <th>1</th>\n",
       "      <td>Jellis</td>\n",
       "      <td>1316</td>\n",
       "      <td>9.69%</td>\n",
       "    </tr>\n",
       "    <tr>\n",
       "      <th>2</th>\n",
       "      <td>hockingstuart</td>\n",
       "      <td>1167</td>\n",
       "      <td>8.59%</td>\n",
       "    </tr>\n",
       "    <tr>\n",
       "      <th>3</th>\n",
       "      <td>Barry</td>\n",
       "      <td>1011</td>\n",
       "      <td>7.44%</td>\n",
       "    </tr>\n",
       "    <tr>\n",
       "      <th>4</th>\n",
       "      <td>Ray</td>\n",
       "      <td>701</td>\n",
       "      <td>5.16%</td>\n",
       "    </tr>\n",
       "    <tr>\n",
       "      <th>5</th>\n",
       "      <td>Marshall</td>\n",
       "      <td>659</td>\n",
       "      <td>4.85%</td>\n",
       "    </tr>\n",
       "    <tr>\n",
       "      <th>6</th>\n",
       "      <td>Buxton</td>\n",
       "      <td>632</td>\n",
       "      <td>4.65%</td>\n",
       "    </tr>\n",
       "    <tr>\n",
       "      <th>7</th>\n",
       "      <td>Biggin</td>\n",
       "      <td>393</td>\n",
       "      <td>2.89%</td>\n",
       "    </tr>\n",
       "    <tr>\n",
       "      <th>8</th>\n",
       "      <td>Brad</td>\n",
       "      <td>342</td>\n",
       "      <td>2.52%</td>\n",
       "    </tr>\n",
       "    <tr>\n",
       "      <th>9</th>\n",
       "      <td>Fletchers</td>\n",
       "      <td>301</td>\n",
       "      <td>2.22%</td>\n",
       "    </tr>\n",
       "  </tbody>\n",
       "</table>\n",
       "</div>"
      ],
      "text/plain": [
       "          seller  counts percent\n",
       "0         Nelson    1565  11.52%\n",
       "1         Jellis    1316   9.69%\n",
       "2  hockingstuart    1167   8.59%\n",
       "3          Barry    1011   7.44%\n",
       "4            Ray     701   5.16%\n",
       "5       Marshall     659   4.85%\n",
       "6         Buxton     632   4.65%\n",
       "7         Biggin     393   2.89%\n",
       "8           Brad     342   2.52%\n",
       "9      Fletchers     301   2.22%"
      ]
     },
     "execution_count": 9,
     "metadata": {},
     "output_type": "execute_result"
    }
   ],
   "source": [
    "df_sellerg = df['SellerG'].value_counts().to_frame().reset_index()\n",
    "df_sellerg = df_sellerg.rename(columns={'index':'seller','SellerG':'counts'})\n",
    "\n",
    "percent = []\n",
    "for counts in df_sellerg['counts']:\n",
    "    per = '{:.2%}'.format(counts/df.shape[0])\n",
    "    percent.append(per)\n",
    "df_sellerg['percent'] = percent\n",
    "df_sellerg[:10]\n",
    "\n",
    "\n",
    "'''\n",
    "df_sellers = df['SellerG'].value_counts().to_frame().reset_index().rename(columns={'index':'SellerG','SellerG':'Count'})\n",
    "df_sellers['Percent'] = df_sellers['Count']/len(df)*100\n",
    "df_sellers[0:10]\n",
    "'''"
   ]
  },
  {
   "cell_type": "markdown",
   "metadata": {},
   "source": [
    "## Fix a problem\n",
    "Your boss has told you that the number of rooms was calculated incorrectly systematically across the entire data set.  Add one room to the Rooms column using two methods:\n",
    "\n",
    " - a for loop, and\n",
    " - using a single statement"
   ]
  },
  {
   "cell_type": "markdown",
   "metadata": {},
   "source": [
    "### (I put these two methods in two separate cells) ###"
   ]
  },
  {
   "cell_type": "code",
   "execution_count": 10,
   "metadata": {},
   "outputs": [],
   "source": [
    "#for loop method\n",
    "df_copy1 = df.copy()\n",
    "for i in range(len(df_copy1)):\n",
    "    df_copy1.loc[i,'Rooms'] += 1\n",
    "    \n",
    "'''\n",
    "df_adjusted = df.copy()\n",
    "for idx, row in df_adjusted.iterrows():\n",
    "    df_adjusted.loc[idx,'Rooms'] = row['Rooms'] + 1\n",
    "df_adjusted.loc[0:10,'Rooms']\n",
    "'''"
   ]
  },
  {
   "cell_type": "code",
   "execution_count": 11,
   "metadata": {},
   "outputs": [],
   "source": [
    "#single statement method\n",
    "df_copy2 = df.copy()\n",
    "df_copy2['Rooms'] = df_copy2['Rooms'].apply(lambda x: x+1)\n",
    "\n",
    "'''\n",
    "df_adjusted_vector = df.copy()\n",
    "df_adjusted_vector['Rooms'] = df['Rooms'] + 1\n",
    "df_adjusted_vector.loc[0:10,'Rooms']\n",
    "'''"
   ]
  },
  {
   "cell_type": "markdown",
   "metadata": {},
   "source": [
    "## What is the Address of the earliest built house in the data set?"
   ]
  },
  {
   "cell_type": "code",
   "execution_count": 12,
   "metadata": {},
   "outputs": [
    {
     "data": {
      "text/plain": [
       "'5 Armstrong St'"
      ]
     },
     "execution_count": 12,
     "metadata": {},
     "output_type": "execute_result"
    }
   ],
   "source": [
    "df_time = df\n",
    "res = df_time.nsmallest(1,'YearBuilt')['Address']\n",
    "res.iloc[0]\n",
    "\n",
    "'''\n",
    "df[df['YearBuilt'] == df['YearBuilt'].min()]['Address']\n",
    "'''"
   ]
  },
  {
   "cell_type": "markdown",
   "metadata": {},
   "source": [
    "Output: 5 Armstrong St"
   ]
  },
  {
   "cell_type": "markdown",
   "metadata": {},
   "source": [
    "## Save a file \n",
    "The council member for Melbourne has asked for the information for their district.  Assume that there are legal restrcitions and we can only provide the council member the Suburb, Price, and Date from the CouncilArea \"Melbourne\" to the counsil person.  Export the file with only the allowed columns, and do not write and index column."
   ]
  },
  {
   "cell_type": "code",
   "execution_count": null,
   "metadata": {},
   "outputs": [],
   "source": [
    "df_saved = df.copy()\n",
    "df_saved = df_saved[df_saved['CouncilArea'] == 'Melbourne']\n",
    "df_saved = df_saved.loc[:,['Suburb','Price','Date']]\n",
    "df_saved.to_csv('council.csv',index=False)\n",
    "\n",
    "'''\n",
    "df_melb = df[df['CouncilArea'] == 'Melbourne']\n",
    "df_melb.to_csv('new_council_report.csv', index=False, columns=['Suburb','Price','Date','CouncilArea'])\n",
    "'''"
   ]
  },
  {
   "cell_type": "code",
   "execution_count": null,
   "metadata": {},
   "outputs": [],
   "source": []
  }
 ],
 "metadata": {
  "kernelspec": {
   "display_name": "Python 3",
   "language": "python",
   "name": "python3"
  },
  "language_info": {
   "codemirror_mode": {
    "name": "ipython",
    "version": 3
   },
   "file_extension": ".py",
   "mimetype": "text/x-python",
   "name": "python",
   "nbconvert_exporter": "python",
   "pygments_lexer": "ipython3",
   "version": "3.7.2"
  }
 },
 "nbformat": 4,
 "nbformat_minor": 4
}
